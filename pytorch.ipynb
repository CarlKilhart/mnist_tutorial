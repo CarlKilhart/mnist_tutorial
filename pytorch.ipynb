{
 "cells": [
  {
   "cell_type": "markdown",
   "metadata": {},
   "source": [
    "# Pytorch Tutorial"
   ]
  },
  {
   "cell_type": "markdown",
   "metadata": {},
   "source": [
    "Pytorch is a popular deep learning framework and it's easy to get started."
   ]
  },
  {
   "cell_type": "code",
   "execution_count": 8,
   "metadata": {
    "collapsed": true
   },
   "outputs": [],
   "source": [
    "import torch\n",
    "import torch.nn as nn\n",
    "import torch.utils.data as data\n",
    "from torch.autograd import Variable,no_grad\n",
    "import torchvision\n",
    "import torchvision.transforms as transforms\n",
    "from tqdm import tqdm\n",
    "import time\n",
    "\n",
    "BATCH_SIZE = 128\n",
    "NUM_EPOCHS = 10"
   ]
  },
  {
   "cell_type": "markdown",
   "metadata": {},
   "source": [
    "First, we read the mnist data, preprocess them and encapsulate them into dataloader form."
   ]
  },
  {
   "cell_type": "code",
   "execution_count": 4,
   "metadata": {
    "collapsed": true
   },
   "outputs": [],
   "source": [
    "# preprocessing\n",
    "normalize = transforms.Normalize(mean=[.5], std=[.5])\n",
    "transform = transforms.Compose([transforms.ToTensor(), normalize])\n",
    "\n",
    "# download and load the data\n",
    "train_dataset = torchvision.datasets.MNIST(root='./data/', train=True, transform=transform, download=False)\n",
    "test_dataset = torchvision.datasets.MNIST(root='./data/', train=False, transform=transform, download=False)\n",
    "\n",
    "# encapsulate them into dataloader form\n",
    "train_loader = data.DataLoader(train_dataset, batch_size=BATCH_SIZE, shuffle=True, drop_last=True)\n",
    "test_loader = data.DataLoader(test_dataset, batch_size=BATCH_SIZE, shuffle=False, drop_last=True)"
   ]
  },
  {
   "cell_type": "markdown",
   "metadata": {},
   "source": [
    "Then, we define the model, object function and optimizer that we use to classify."
   ]
  },
  {
   "cell_type": "code",
   "execution_count": 32,
   "metadata": {
    "collapsed": true
   },
   "outputs": [],
   "source": [
    "class SimpleNet(nn.Module):\n",
    "    def __init__(self, in_dim, dim1, dim2, out_dim):\n",
    "        super(SimpleNet, self).__init__()\n",
    "        self.layer1=nn.Sequential(\n",
    "            nn.Linear(in_dim, dim1),\n",
    "            nn.BatchNorm1d(dim1),\n",
    "            nn.ReLU(True)\n",
    "        )\n",
    "        self.layer2=nn.Sequential(\n",
    "            nn.Linear(dim1, dim2),\n",
    "            nn.BatchNorm1d(dim2),\n",
    "            nn.ReLU(True)\n",
    "        )\n",
    "        self.layer3=nn.Sequential(\n",
    "            nn.Linear(dim2, out_dim),\n",
    "            nn.BatchNorm1d(out_dim),\n",
    "            nn.ReLU(True)\n",
    "        )\n",
    "\n",
    "    def forward(self, x):\n",
    "        x = self.layer1(x)\n",
    "        x = self.layer2(x)\n",
    "        x = self.layer3(x)\n",
    "        return x\n",
    "    \n",
    "model = SimpleNet(28 * 28, 512, 128, 10)\n",
    "model = model.cuda()\n",
    "\n",
    "# TODO:define loss function and optimiter\n",
    "criterion = nn.CrossEntropyLoss()\n",
    "optimizer = torch.optim.SGD(model.parameters(), lr=1e-2)"
   ]
  },
  {
   "cell_type": "markdown",
   "metadata": {},
   "source": [
    "Next, we can start to train and evaluate!"
   ]
  },
  {
   "cell_type": "code",
   "execution_count": 33,
   "metadata": {
    "collapsed": true,
    "scrolled": true
   },
   "outputs": [
    {
     "output_type": "stream",
     "name": "stderr",
     "text": "100%|██████████| 468/468 [00:09<00:00, 48.82it/s]\n100%|██████████| 468/468 [00:09<00:00, 48.17it/s]\n100%|██████████| 468/468 [00:09<00:00, 47.27it/s]\n100%|██████████| 468/468 [00:09<00:00, 47.71it/s]\n100%|██████████| 468/468 [00:09<00:00, 48.03it/s]\n100%|██████████| 468/468 [00:09<00:00, 47.93it/s]\n100%|██████████| 468/468 [00:09<00:00, 48.55it/s]\n100%|██████████| 468/468 [00:09<00:00, 47.94it/s]\n100%|██████████| 468/468 [00:09<00:00, 49.56it/s]\n100%|██████████| 468/468 [00:09<00:00, 49.54it/s]\n"
    }
   ],
   "source": [
    "# train and evaluate\n",
    "for epoch in range(NUM_EPOCHS):\n",
    "    for images, labels in tqdm(train_loader):\n",
    "        images = images.view(images.size(0),-1)\n",
    "        images = Variable(images).cuda()\n",
    "        labels = Variable(labels).cuda()\n",
    "        out = model(images)\n",
    "        loss = criterion(out, labels)\n",
    "        optimizer.zero_grad()\n",
    "        loss.backward()\n",
    "        optimizer.step() \n",
    "\n",
    "\n",
    "# evaluate\n",
    "train_acc = 0\n",
    "test_acc = 0\n",
    "model.eval()\n",
    "with no_grad():\n",
    "    for images, labels in train_loader:\n",
    "        images = images.view(images.size(0),-1)\n",
    "        images = Variable(images).cuda()\n",
    "        labels = Variable(labels).cuda()\n",
    "        out = model(images)\n",
    "        _,pred = torch.max(out, 1)\n",
    "        train_acc += (pred == labels).sum()\n",
    " \n",
    "    for images, labels in test_loader:\n",
    "        images = images.view(images.size(0), -1)\n",
    "        images = Variable(images).cuda()\n",
    "        labels = Variable(labels).cuda()\n",
    "        out = model(images)\n",
    "        _, pred = torch.max(out, 1)\n",
    "        test_acc += torch.sum(pred == labels)\n",
    "\n",
    "\n",
    ""
   ]
  },
  {
   "cell_type": "markdown",
   "metadata": {},
   "source": [
    "#### Q5:\n",
    "Please print the training and testing accuracy."
   ]
  },
  {
   "cell_type": "code",
   "execution_count": null,
   "metadata": {},
   "outputs": [],
   "source": [
    "# evaluate\n",
    "train_acc = 0\n",
    "test_acc = 0\n",
    "model.eval()\n",
    "with no_grad():\n",
    "    for images, labels in train_loader:\n",
    "        images = images.view(images.size(0),-1)\n",
    "        images = Variable(images).cuda()\n",
    "        labels = Variable(labels).cuda()\n",
    "        out = model(images)\n",
    "        _,pred = torch.max(out, 1)\n",
    "        train_acc += (pred == labels).sum().item()\n",
    " \n",
    "    for images, labels in test_loader:\n",
    "        images = images.view(images.size(0), -1)\n",
    "        images = Variable(images).cuda()\n",
    "        labels = Variable(labels).cuda()\n",
    "        out = model(images)\n",
    "        _, pred = torch.max(out, 1)\n",
    "        test_acc += torch.sum(pred == labels).item()"
   ]
  },
  {
   "cell_type": "code",
   "execution_count": 38,
   "metadata": {},
   "outputs": [
    {
     "output_type": "stream",
     "name": "stdout",
     "text": "Training accuracy: 99.53%\nTesting accuracy: 97.78%\n"
    }
   ],
   "source": [
    "print('Training accuracy: %0.2f%%' % (train_acc*100/len(train_dataset)))\n",
    "print('Testing accuracy: %0.2f%%' % (test_acc*100/len(test_dataset)))"
   ]
  }
 ],
 "metadata": {
  "kernelspec": {
   "display_name": "Python 3.7.0 64-bit ('csc': conda)",
   "language": "python",
   "name": "python37064bitcscconda07c9cc69d6544a9a896d08ec6850214d"
  },
  "language_info": {
   "codemirror_mode": {
    "name": "ipython",
    "version": 3
   },
   "file_extension": ".py",
   "mimetype": "text/x-python",
   "name": "python",
   "nbconvert_exporter": "python",
   "pygments_lexer": "ipython3",
   "version": "3.7.0-final"
  }
 },
 "nbformat": 4,
 "nbformat_minor": 2
}